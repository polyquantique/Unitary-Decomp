{
 "cells": [
  {
   "cell_type": "markdown",
   "id": "3a2ccae5",
   "metadata": {},
   "source": [
    "# Examples for the LPLM Interferometer Module"
   ]
  },
  {
   "cell_type": "markdown",
   "id": "47651329",
   "metadata": {},
   "source": [
    "The `lplm_interferometer` module provides functions to decompose arbitrary linear transformations on $N$ optical modes into a sequence of $6N+1$ diagonal phases masks interleaved with discrete Fourier transforms (DFT). The method is based on a paper published by López Pastor, Lundeen and Marquardt in 2021 [1]. \n",
    "\n",
    "### References\n",
    "1. Víctor López Pastor, Jeff Lundeen, and Florian Marquardt, \"Arbitrary optical wave evolution with Fourier transforms and phase masks,\" Opt. Express 29, 38441-38450 (2021)\n"
   ]
  },
  {
   "cell_type": "code",
   "execution_count": 11,
   "id": "7f574ccd",
   "metadata": {},
   "outputs": [],
   "source": [
    "# Import dependencies\n",
    "from unitary_decomp import lplm_interferometer as li\n",
    "\n",
    "import numpy as np\n",
    "from scipy.stats import unitary_group"
   ]
  },
  {
   "cell_type": "markdown",
   "id": "af871756",
   "metadata": {},
   "source": [
    "We start by generating a random unitary matrix $U$ of size $N \\times N$."
   ]
  },
  {
   "cell_type": "code",
   "execution_count": 12,
   "id": "4e68de8b",
   "metadata": {},
   "outputs": [
    {
     "name": "stdout",
     "output_type": "stream",
     "text": [
      "Unitary matrix U:\n",
      "\n",
      " [[ 0.067-0.529j -0.026+0.35j  -0.304-0.417j  0.011+0.23j  -0.356+0.08j\n",
      "   0.358-0.11j ]\n",
      " [ 0.129+0.214j  0.448+0.653j  0.323-0.047j -0.258-0.133j  0.144+0.306j\n",
      "   0.071-0.008j]\n",
      " [-0.431-0.336j -0.125+0.071j  0.33 -0.365j -0.101-0.371j  0.249-0.284j\n",
      "  -0.191-0.334j]\n",
      " [-0.271-0.384j -0.102+0.j     0.099+0.377j -0.599+0.38j   0.174+0.067j\n",
      "   0.017+0.281j]\n",
      " [ 0.014+0.001j  0.23 +0.185j -0.174+0.412j -0.062-0.197j -0.029-0.709j\n",
      "   0.396-0.096j]\n",
      " [-0.364+0.029j  0.172-0.319j  0.095-0.154j -0.03 -0.41j  -0.17 +0.207j\n",
      "   0.519+0.438j]]\n"
     ]
    }
   ],
   "source": [
    "N = 6 # Dimension of the unitary matrix\n",
    "\n",
    "# Generate a random unitary matrix of dimension N\n",
    "U = unitary_group(dim=N, seed=43).rvs()\n",
    "\n",
    "# Print the unitary matrix\n",
    "print(\"Unitary matrix U:\\n\\n\", U.round(3))"
   ]
  },
  {
   "cell_type": "markdown",
   "id": "105711ca",
   "metadata": {},
   "source": [
    "We now apply the `lplm_decomposition` function found in the `lplm_interferometer` module to compute all the phase masks that decompose the matrix $U$. The function returns a `LplmDecomp` object that has two attributes:\n",
    "\n",
    "- `D`: Output phase mask of the system\n",
    "- `mask_sequence`: List of the $6N$ phase masks that are interleaved by Fourier transform matrices.\n",
    "\n",
    "These phase masks allow for a full description of the matrix $U$:\n",
    "\n",
    "$U = D \\Pi_{i=1}^{6N}FM_i$,\n",
    "\n",
    "where $M_i \\in \\text{mask\\_sequence}\\ \\forall i \\in {1, ..., 6N}$. \n",
    "$F$ is the discrete Fourier tranform matrix, whose matrix elements are given by \n",
    "\n",
    "$F_{j, k} = \\frac{1}{\\sqrt{N}}e^{-i2\\pi jk/N}$."
   ]
  },
  {
   "cell_type": "code",
   "execution_count": 13,
   "id": "0e520ae1",
   "metadata": {},
   "outputs": [
    {
     "name": "stdout",
     "output_type": "stream",
     "text": [
      "Output type: LplmDecomp\n",
      "\n",
      "Circuit lenght: 36\n"
     ]
    }
   ],
   "source": [
    "# Perform the LPLM decomposition\n",
    "decomposition = li.lplm_decomposition(U)\n",
    "\n",
    "# Output type of the lplm_decomposition function\n",
    "print(\"Output type:\", type(decomposition).__name__, end=\"\\n\\n\")\n",
    "\n",
    "# Circuit length of the mask_sequence\n",
    "print(\"Circuit lenght:\", len(decomposition.mask_sequence))\n",
    "\n",
    "# Assert that we get 6N masks\n",
    "assert 6*N == len(decomposition.mask_sequence)"
   ]
  },
  {
   "cell_type": "markdown",
   "id": "dd01c5c1",
   "metadata": {},
   "source": [
    "The `lplm_interferometer` module also provides a function to reconstruct the unitary matrix $U$ given its decomposition. This allows to verify the fidelity of the decomposition."
   ]
  },
  {
   "cell_type": "code",
   "execution_count": 14,
   "id": "31e68295",
   "metadata": {},
   "outputs": [
    {
     "name": "stdout",
     "output_type": "stream",
     "text": [
      "Reconstructed matrix U:\n",
      "\n",
      " [[ 0.067-0.529j -0.026+0.35j  -0.304-0.417j  0.011+0.23j  -0.356+0.08j\n",
      "   0.358-0.11j ]\n",
      " [ 0.129+0.214j  0.448+0.653j  0.323-0.047j -0.258-0.133j  0.144+0.306j\n",
      "   0.071-0.008j]\n",
      " [-0.431-0.336j -0.125+0.071j  0.33 -0.365j -0.101-0.371j  0.249-0.284j\n",
      "  -0.191-0.334j]\n",
      " [-0.271-0.384j -0.102+0.j     0.099+0.377j -0.599+0.38j   0.174+0.067j\n",
      "   0.017+0.281j]\n",
      " [ 0.014+0.001j  0.23 +0.185j -0.174+0.412j -0.062-0.197j -0.029-0.709j\n",
      "   0.396-0.096j]\n",
      " [-0.364+0.029j  0.172-0.319j  0.095-0.154j -0.03 -0.41j  -0.17 +0.207j\n",
      "   0.519+0.438j]]\n"
     ]
    }
   ],
   "source": [
    "# Reconstruct the unitary matrix from the decomposition\n",
    "reconstructed_U = li.circuit_reconstruction(decomposition)\n",
    "\n",
    "# Print the reconstructed matrix\n",
    "print(\"Reconstructed matrix U:\\n\\n\", reconstructed_U.round(3))\n",
    "\n",
    "# Check if the reconstructed matrix matches the original unitary matrix\n",
    "assert np.allclose(U, reconstructed_U)"
   ]
  }
 ],
 "metadata": {
  "kernelspec": {
   "display_name": "unitary_decomp",
   "language": "python",
   "name": "python3"
  },
  "language_info": {
   "codemirror_mode": {
    "name": "ipython",
    "version": 3
   },
   "file_extension": ".py",
   "mimetype": "text/x-python",
   "name": "python",
   "nbconvert_exporter": "python",
   "pygments_lexer": "ipython3",
   "version": "3.13.3"
  }
 },
 "nbformat": 4,
 "nbformat_minor": 5
}
