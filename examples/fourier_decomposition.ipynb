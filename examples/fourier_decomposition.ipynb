{
 "cells": [
  {
   "cell_type": "markdown",
   "id": "168fbd5f",
   "metadata": {},
   "source": [
    "# Examples for the Fourier Interferometer Module\n",
    "\n",
    "The `fourier_interferometer` module provides functions to decompose arbitrary $N \\times N$ unitary matrices into a product of phase masks interleaved with discrete Fourier transform (DFT) matrices. This allows to design universal multiport optical devices that can perform linear transformations on a set of $N$ spatially encoded optical modes. The functions `fourier_decomposition` and `compact_fourier_decomposition` in this module provide constructive algorithms to perform this decomposition using $4N + 1$ and $2N+5$ phase masks respectively."
   ]
  },
  {
   "cell_type": "markdown",
   "id": "e0d50fce",
   "metadata": {},
   "source": [
    "## 1. Perform the Decomposition"
   ]
  },
  {
   "cell_type": "code",
   "execution_count": 1,
   "id": "c149d137",
   "metadata": {},
   "outputs": [],
   "source": [
    "# Import dependencies\n",
    "import numpy as np\n",
    "from scipy.stats import unitary_group\n",
    "from unitary_decomp.fourier_interferometer import compact_fourier_decomposition, circuit_reconstruction\n",
    "np.set_printoptions(precision=3, suppress=True, linewidth=150)"
   ]
  },
  {
   "cell_type": "markdown",
   "id": "c876dce3",
   "metadata": {},
   "source": [
    "We start by generating a random unitary matrix of dimension $N$."
   ]
  },
  {
   "cell_type": "code",
   "execution_count": 2,
   "id": "1b0d67a1",
   "metadata": {},
   "outputs": [
    {
     "name": "stdout",
     "output_type": "stream",
     "text": [
      "Random unitary matrix U:\n",
      "\n",
      "[[ 0.329-0.288j  0.189+0.111j  0.729+0.078j -0.061-0.11j   0.292+0.087j  0.214+0.262j]\n",
      " [ 0.242-0.368j  0.182+0.039j -0.146+0.232j  0.22 +0.637j  0.162-0.413j -0.194-0.084j]\n",
      " [ 0.038+0.237j  0.349+0.292j  0.255-0.258j -0.015+0.456j -0.576+0.249j -0.045-0.012j]\n",
      " [ 0.148+0.145j  0.608-0.503j  0.022+0.177j -0.322-0.251j -0.162-0.237j -0.187-0.137j]\n",
      " [ 0.444-0.116j -0.009+0.164j -0.341-0.319j -0.043-0.232j -0.26 -0.274j -0.024+0.587j]\n",
      " [-0.204+0.511j  0.1  -0.227j -0.012+0.074j  0.081+0.304j  0.198-0.229j  0.457+0.48j ]]\n"
     ]
    }
   ],
   "source": [
    "# Dimension of the unitary matrix\n",
    "DIM = 6\n",
    "\n",
    "# Generate a random unitary matrix of dimension DIM\n",
    "U = unitary_group(DIM, seed=137).rvs()\n",
    "\n",
    "print(\"Random unitary matrix U:\\n\")\n",
    "print(U)"
   ]
  },
  {
   "cell_type": "markdown",
   "id": "728238f6",
   "metadata": {},
   "source": [
    "The functions `fourier_decomposition` and `compact_fourier_decomposition` can be used to decompose $U$ into a sequence of $4N+1$ and $2N+5$ phase masks. We will use the later for this example. \n",
    "The function returns a `FourierDecomp` object that has two attributes:\n",
    "\n",
    "- `D`: Output phase mask of the circuit.\n",
    "- `mask_sequence`: List of the $2N+4$ phase masks that are interleaved by DFT matrices.\n",
    "\n",
    "These phase masks allow for a full description of the matrix $U$:\n",
    "\n",
    "$U = D \\Pi_{i=1}^{2N+4}FM_i$,\n",
    "\n",
    "where $M_i \\in \\text{mask\\_sequence}$. \n",
    "$F$ is the discrete Fourier tranform matrix, whose matrix elements are given by \n",
    "\n",
    "$F_{j, k} = \\frac{1}{\\sqrt{N}}e^{-i2\\pi jk/N}$."
   ]
  },
  {
   "cell_type": "code",
   "execution_count": 3,
   "id": "cf766f9d",
   "metadata": {},
   "outputs": [
    {
     "name": "stdout",
     "output_type": "stream",
     "text": [
      "Output type: FourierDecomp\n",
      "\n",
      "Circuit lenght: 17\n",
      "\n",
      "Masks in the decomposition:\n",
      "\n",
      "1: [-162.484   24.026   90.      90.     130.809  -13.307]\n",
      "2: [-45.  45. -45.  45. -45.  45.]\n",
      "3: [ 0.  0.  0. 90. 90. 90.]\n",
      "4: [   0.    0.  120.    0. -120.    0.]\n",
      "5: [-134.41     0.     -74.546   65.014    0.      30.074]\n",
      "6: [   0.    0.  120.    0. -120.    0.]\n",
      "7: [ 41.28  105.133 173.48  -41.28  -44.149  41.076]\n",
      "8: [   0.    0.  120.    0. -120.    0.]\n",
      "9: [ 73.34    0.     31.807 -52.674   0.    163.317]\n",
      "10: [ -22.712   22.712   97.288   22.712 -142.712   22.712]\n",
      "11: [ 69.709 174.038  73.08  -24.284   4.559 -15.693]\n",
      "12: [   0.    0.  120.    0. -120.    0.]\n",
      "13: [ -15.291    0.    -158.913 -166.96     0.     -79.217]\n",
      "14: [ 44.396 -44.396 164.396 -44.396 -75.604 -44.396]\n",
      "15: [-11.223   4.449 136.38   12.43  -24.793 154.84 ]\n",
      "16: [-45.  45. -45.  45. -45.  45.]\n",
      "17: [142.337  90.     90.     90.     76.25   50.134]\n"
     ]
    }
   ],
   "source": [
    "# Perform the compact Fourier decomposition\n",
    "decomposition = compact_fourier_decomposition(U)\n",
    "\n",
    "# The output is a `FourierDecomp` object\n",
    "print(\"Output type:\", type(decomposition).__name__, end=\"\\n\\n\")\n",
    "\n",
    "# Print the number of masks in the decomposition\n",
    "print(\"Circuit lenght:\", len(decomposition.mask_sequence) + 1, end=\"\\n\\n\") # +1 accounts for the `D` matrix\n",
    "\n",
    "# Assert that the number of masks is 2N + 5\n",
    "assert 2*DIM + 5 == len(decomposition.mask_sequence) + 1\n",
    "\n",
    "# Print the phase masks in the decomposition. Note that the masks are given in the matrix multiplication order, i.e., the first mask is applied last in the circuit.\n",
    "print(\"Masks in the decomposition:\\n\")\n",
    "print(\"1:\", 180*np.angle(decomposition.D)/np.pi)\n",
    "for i, mask in enumerate(decomposition.mask_sequence):\n",
    "    print(str(i+2) + \":\", 180*np.angle(mask)/np.pi)"
   ]
  },
  {
   "cell_type": "markdown",
   "id": "d4ead19c",
   "metadata": {},
   "source": [
    "The *Fourier Interferometer* module also provides the `circuit_reconstruction` function, which allows to reconstruct the unitary operation given its Fourier decomposition. The function interleaves each masks in the sequence with a DFT matrix."
   ]
  },
  {
   "cell_type": "code",
   "execution_count": 4,
   "id": "5c26a54a",
   "metadata": {},
   "outputs": [
    {
     "name": "stdout",
     "output_type": "stream",
     "text": [
      "\n",
      "Reconstructed unitary matrix U':\n",
      "\n",
      "[[ 0.329-0.288j  0.189+0.111j  0.729+0.078j -0.061-0.11j   0.292+0.087j  0.214+0.262j]\n",
      " [ 0.242-0.368j  0.182+0.039j -0.146+0.232j  0.22 +0.637j  0.162-0.413j -0.194-0.084j]\n",
      " [ 0.038+0.237j  0.349+0.292j  0.255-0.258j -0.015+0.456j -0.576+0.249j -0.045-0.012j]\n",
      " [ 0.148+0.145j  0.608-0.503j  0.022+0.177j -0.322-0.251j -0.162-0.237j -0.187-0.137j]\n",
      " [ 0.444-0.116j -0.009+0.164j -0.341-0.319j -0.043-0.232j -0.26 -0.274j -0.024+0.587j]\n",
      " [-0.204+0.511j  0.1  -0.227j -0.012+0.074j  0.081+0.304j  0.198-0.229j  0.457+0.48j ]]\n"
     ]
    }
   ],
   "source": [
    "# Reconstruct the unitary operation from the decomposition\n",
    "reconstructed_U = circuit_reconstruction(decomposition)\n",
    "\n",
    "# Print the reconstructed unitary operation\n",
    "print(\"\\nReconstructed unitary matrix U':\\n\")\n",
    "print(reconstructed_U)\n",
    "\n",
    "# Check that the reconstructed matrix matches the original unitary matrix\n",
    "assert np.allclose(U, reconstructed_U)"
   ]
  },
  {
   "cell_type": "markdown",
   "id": "dc267abb",
   "metadata": {},
   "source": [
    "## 2. Visualize the Results"
   ]
  },
  {
   "cell_type": "markdown",
   "id": "883a0f42",
   "metadata": {},
   "source": [
    "The `phases_plot` module in the *Plot* subpackage provides tools to visualize the phase masks in a Fourier decomposition. The `plot_phases` function found within this module allows to generate a 2D colormap of the phase masks in the circuit."
   ]
  },
  {
   "cell_type": "code",
   "execution_count": 5,
   "id": "179234a9",
   "metadata": {},
   "outputs": [],
   "source": [
    "# Import the plotting function\n",
    "import matplotlib.pyplot as plt\n",
    "from unitary_decomp.plot.phases_plot import plot_phases"
   ]
  },
  {
   "cell_type": "markdown",
   "id": "13f520bc",
   "metadata": {},
   "source": [
    "The function displays the phase between $-\\pi$ and $\\pi$ for all modes in the different layers in the form of a 2D grid. The layers are shown in circuit order."
   ]
  },
  {
   "cell_type": "code",
   "execution_count": 6,
   "id": "596e1624",
   "metadata": {},
   "outputs": [
    {
     "data": {
      "text/plain": [
       "<Axes: xlabel='Layer', ylabel='Mode'>"
      ]
     },
     "execution_count": 6,
     "metadata": {},
     "output_type": "execute_result"
    },
    {
     "data": {
      "image/png": "[encoded data removed]",
      "text/plain": [
       "<Figure size 1000x600 with 2 Axes>"
      ]
     },
     "metadata": {},
     "output_type": "display_data"
    }
   ],
   "source": [
    "# Create a figure and axis for the plot\n",
    "fig, ax = plt.subplots(figsize=(10, 6))\n",
    "\n",
    "# The `plot_phases` function adds a 2D colormap of the phases to the axis\n",
    "plot_phases(decomposition, ax)"
   ]
  },
  {
   "cell_type": "markdown",
   "id": "312beba9",
   "metadata": {},
   "source": [
    "We can do the same thing with the Fourier decomposition of the DFT matrix."
   ]
  },
  {
   "cell_type": "code",
   "execution_count": 7,
   "id": "01b89df1",
   "metadata": {},
   "outputs": [
    {
     "data": {
      "text/plain": [
       "<Axes: xlabel='Layer', ylabel='Mode'>"
      ]
     },
     "execution_count": 7,
     "metadata": {},
     "output_type": "execute_result"
    },
    {
     "data": {
      "image/png": "[encoded data removed]",
      "text/plain": [
       "<Figure size 1000x600 with 2 Axes>"
      ]
     },
     "metadata": {},
     "output_type": "display_data"
    }
   ],
   "source": [
    "from scipy.linalg import dft\n",
    "\n",
    "# Let U be the 20 x 20 DFT matrix\n",
    "U = dft(8, scale=\"sqrtn\")\n",
    "\n",
    "# Perform the compact Fourier decomposition of the DFT matrix\n",
    "decomposition = compact_fourier_decomposition(U)\n",
    "\n",
    "# Plot the phases of the Fourier decomposition\n",
    "fig, ax = plt.subplots(figsize=(10, 6))\n",
    "plot_phases(decomposition, ax)"
   ]
  },
  {
   "cell_type": "code",
   "execution_count": 8,
   "id": "09b80405-5b01-40f6-a9f7-272093866454",
   "metadata": {},
   "outputs": [
    {
     "name": "stdout",
     "output_type": "stream",
     "text": [
      "Output type: FourierDecomp\n",
      "\n",
      "Circuit lenght: 21\n",
      "\n",
      "Masks in the decomposition:\n",
      "\n",
      "1: [ -90.     106.249   90.      90.      90.     125.913 -132.416  -75.585]\n",
      "2: [-45.  45. -45.  45. -45.  45. -45.  45.]\n",
      "3: [ 0.  0.  0.  0. 90. 90. 90. 90.]\n",
      "4: [  0.   0.  90.   0. 180.   0. -90.   0.]\n",
      "5: [-180.       0.     -19.665  160.335 -180.       0.     -19.665  -19.665]\n",
      "6: [  0.   0.  90.   0. 180.   0. -90.   0.]\n",
      "7: [  45.     -27.919   62.873 -108.04   -45.     152.081 -117.127  161.96 ]\n",
      "8: [  0.   0.  90.   0. 180.   0. -90.   0.]\n",
      "9: [ -32.784    0.    -147.216  141.752 -142.255    0.     -37.745  -38.248]\n",
      "10: [   1.24   -1.24   91.24   -1.24 -178.76   -1.24  -88.76   -1.24]\n",
      "11: [  58.76  -123.721   16.698 -165.783  -61.24   116.279 -103.302   74.217]\n",
      "12: [  0.   0.  90.   0. 180.   0. -90.   0.]\n",
      "13: [-105.734    0.     105.734  -22.892  144.795    0.    -144.795  157.108]\n",
      "14: [   9.765   -9.765   99.765   -9.765 -170.235   -9.765  -80.235   -9.765]\n",
      "15: [  35.235 -143.529 -107.084  144.934  -54.765   36.471   72.916   54.934]\n",
      "16: [  0.   0.  90.   0. 180.   0. -90.   0.]\n",
      "17: [-135.76     0.    -152.675  -86.327   44.24     0.      27.325   93.673]\n",
      "18: [  22.12  -22.12  112.12  -22.12 -157.88  -22.12  -67.88  -22.12]\n",
      "19: [ 22.88  -21.36   43.44  -64.235  22.88  -21.36   43.44  -64.235]\n",
      "20: [-45.  45. -45.  45. -45.  45. -45.  45.]\n",
      "21: [90. 90. 90. 90. 90. 90. 90. 90.]\n"
     ]
    }
   ],
   "source": [
    "# Perform the compact Fourier decomposition\n",
    "decomposition = compact_fourier_decomposition(U)\n",
    "\n",
    "# The output is a `FourierDecomp` object\n",
    "print(\"Output type:\", type(decomposition).__name__, end=\"\\n\\n\")\n",
    "\n",
    "# Print the number of masks in the decomposition\n",
    "print(\"Circuit lenght:\", len(decomposition.mask_sequence) + 1, end=\"\\n\\n\") # +1 accounts for the `D` matrix\n",
    "\n",
    "# Print the phase masks in the decomposition. Note that the masks are given in the matrix multiplication order, i.e., the first mask is applied last in the circuit.\n",
    "print(\"Masks in the decomposition:\\n\")\n",
    "print(\"1:\", 180*np.angle(decomposition.D)/np.pi)\n",
    "for i, mask in enumerate(decomposition.mask_sequence):\n",
    "    print(str(i+2) + \":\", 180*np.angle(mask)/np.pi)"
   ]
  }
 ],
 "metadata": {
  "kernelspec": {
   "display_name": "Python 3 (ipykernel)",
   "language": "python",
   "name": "python3"
  },
  "language_info": {
   "codemirror_mode": {
    "name": "ipython",
    "version": 3
   },
   "file_extension": ".py",
   "mimetype": "text/x-python",
   "name": "python",
   "nbconvert_exporter": "python",
   "pygments_lexer": "ipython3",
   "version": "3.11.9"
  }
 },
 "nbformat": 4,
 "nbformat_minor": 5
}
